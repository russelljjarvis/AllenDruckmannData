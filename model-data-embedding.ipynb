{
 "cells": [
  {
   "cell_type": "code",
   "execution_count": 1,
   "metadata": {},
   "outputs": [],
   "source": [
    "# Common stuff to import\n",
    "%matplotlib inline\n",
    "import pickle\n",
    "import numpy as np\n",
    "import matplotlib.pyplot as plt\n",
    "import seaborn as sns\n",
    "sns.set(font_scale=1.5)"
   ]
  },
  {
   "cell_type": "code",
   "execution_count": 2,
   "metadata": {},
   "outputs": [],
   "source": [
    "# Special stuff to import\n",
    "from sklearn.decomposition import PCA\n",
    "from sklearn.manifold import Isomap, TSNE"
   ]
  },
  {
   "cell_type": "code",
   "execution_count": 4,
   "metadata": {},
   "outputs": [],
   "source": [
    "# Open the 3.0x rheobase file\n",
    "with open('three_df.pkl', 'rb') as f:\n",
    "    df_30x = pickle.load(f)"
   ]
  },
  {
   "cell_type": "code",
   "execution_count": 5,
   "metadata": {},
   "outputs": [],
   "source": [
    "# Open the 1.5x rheobase file\n",
    "with open('onefive_df.pkl', 'rb') as f:\n",
    "    df_15x = pickle.load(f)"
   ]
  },
  {
   "cell_type": "code",
   "execution_count": 6,
   "metadata": {},
   "outputs": [
    {
     "data": {
      "text/html": [
       "<div>\n",
       "<style scoped>\n",
       "    .dataframe tbody tr th:only-of-type {\n",
       "        vertical-align: middle;\n",
       "    }\n",
       "\n",
       "    .dataframe tbody tr th {\n",
       "        vertical-align: top;\n",
       "    }\n",
       "\n",
       "    .dataframe thead th {\n",
       "        text-align: right;\n",
       "    }\n",
       "</style>\n",
       "<table border=\"1\" class=\"dataframe\">\n",
       "  <thead>\n",
       "    <tr style=\"text-align: right;\">\n",
       "      <th></th>\n",
       "      <th>AHP1_depth_from_peak</th>\n",
       "      <th>AHP2_depth_from_peak</th>\n",
       "      <th>AHP_depth</th>\n",
       "      <th>AHP_depth_abs</th>\n",
       "      <th>AHP_depth_abs_slow</th>\n",
       "      <th>AHP_depth_diff</th>\n",
       "      <th>AHP_depth_from_peak</th>\n",
       "      <th>AHP_slow_time</th>\n",
       "      <th>AHP_time_from_peak</th>\n",
       "      <th>AP1_amp</th>\n",
       "      <th>...</th>\n",
       "      <th>threshold_v</th>\n",
       "      <th>trough_index</th>\n",
       "      <th>trough_t</th>\n",
       "      <th>trough_v</th>\n",
       "      <th>upstroke</th>\n",
       "      <th>upstroke_downstroke_ratio</th>\n",
       "      <th>upstroke_index</th>\n",
       "      <th>upstroke_t</th>\n",
       "      <th>upstroke_v</th>\n",
       "      <th>width</th>\n",
       "    </tr>\n",
       "  </thead>\n",
       "  <tbody>\n",
       "    <tr>\n",
       "      <th>NMLCL000842</th>\n",
       "      <td>[94.35272730093455]</td>\n",
       "      <td>[95.35519817208674]</td>\n",
       "      <td>[-5.467570208257911, -5.517161117356764, -5.51...</td>\n",
       "      <td>[-74.25972727270074, -74.3093181817996, -74.30...</td>\n",
       "      <td>[-71.3183428569876, -71.31639387745074, -71.30...</td>\n",
       "      <td>[-0.04959090909885333, 0.0010454545395930381, ...</td>\n",
       "      <td>[94.35272730093455, 95.35519817208674, 95.5217...</td>\n",
       "      <td>[0.2125, 0.2125, 0.2125, 0.2125, 0.21338912133...</td>\n",
       "      <td>[2.300000000000523, 2.299999999997908, 2.29999...</td>\n",
       "      <td>[75.6438500248334]</td>\n",
       "      <td>...</td>\n",
       "      <td>-55.573728</td>\n",
       "      <td>198797.707317</td>\n",
       "      <td>1.987977</td>\n",
       "      <td>-74.037120</td>\n",
       "      <td>324.153334</td>\n",
       "      <td>2.232816</td>\n",
       "      <td>198562.573171</td>\n",
       "      <td>1.985626</td>\n",
       "      <td>-3.755633</td>\n",
       "      <td>0.000730</td>\n",
       "    </tr>\n",
       "    <tr>\n",
       "      <th>NMLCL000150</th>\n",
       "      <td>[85.32297500543316]</td>\n",
       "      <td>[82.67246665997659]</td>\n",
       "      <td>[-0.7747521750732176, -0.5658438417432876, -0....</td>\n",
       "      <td>[-69.3053749999928, -69.09646666666286, -68.98...</td>\n",
       "      <td>[-68.48556135589118, -68.44087266879296, -68.3...</td>\n",
       "      <td>[0.20890833332992997, 0.10816363635242965, 0.2...</td>\n",
       "      <td>[85.32297500543316, 82.67246665997659, 81.8509...</td>\n",
       "      <td>[0.16293929712460065, 0.14739884393063585, 0.1...</td>\n",
       "      <td>[2.8000000000006366, 2.9999999999972715, 2.999...</td>\n",
       "      <td>[72.12080000359134]</td>\n",
       "      <td>...</td>\n",
       "      <td>-45.062270</td>\n",
       "      <td>182887.857143</td>\n",
       "      <td>1.828879</td>\n",
       "      <td>-67.929939</td>\n",
       "      <td>221.251466</td>\n",
       "      <td>2.326160</td>\n",
       "      <td>181719.904762</td>\n",
       "      <td>1.817199</td>\n",
       "      <td>-8.663569</td>\n",
       "      <td>0.000743</td>\n",
       "    </tr>\n",
       "    <tr>\n",
       "      <th>NMLCL000160</th>\n",
       "      <td>[90.26799248972013]</td>\n",
       "      <td>[88.04533332533875]</td>\n",
       "      <td>[-1.0595340658517785, -1.5962215658529857, -1....</td>\n",
       "      <td>[-72.21231249999879, -72.749, -72.758339130433...</td>\n",
       "      <td>[-72.69567380950369, -72.74720869564989, -72.7...</td>\n",
       "      <td>[-0.5366875000012072, -0.009339130433332343, 0...</td>\n",
       "      <td>[90.26799248972013, 88.04533332533875, 87.5853...</td>\n",
       "      <td>[0.17894736842105263, 0.1513353115727003, 0.09...</td>\n",
       "      <td>[3.9000000000008868, 4.399999999995998, 4.5999...</td>\n",
       "      <td>[72.7976799870559]</td>\n",
       "      <td>...</td>\n",
       "      <td>-54.709880</td>\n",
       "      <td>184062.315789</td>\n",
       "      <td>1.840623</td>\n",
       "      <td>-72.134295</td>\n",
       "      <td>244.702074</td>\n",
       "      <td>2.498303</td>\n",
       "      <td>182681.578947</td>\n",
       "      <td>1.826816</td>\n",
       "      <td>-7.589454</td>\n",
       "      <td>0.000788</td>\n",
       "    </tr>\n",
       "    <tr>\n",
       "      <th>NMLCL000480</th>\n",
       "      <td>[96.94536470012301]</td>\n",
       "      <td>[92.10237600292912]</td>\n",
       "      <td>[0.2957104849672447, 0.6296991908565985, -0.28...</td>\n",
       "      <td>[-70.77276470587192, -70.43877599998257, -71.3...</td>\n",
       "      <td>[-69.31302439021124, -70.12247692310284, -70.0...</td>\n",
       "      <td>[0.3339887058893538, -0.9113416470725468, -0.0...</td>\n",
       "      <td>[96.94536470012301, 92.10237600292912, 94.9155...</td>\n",
       "      <td>[0.1424581005586592, 0.13315926892950392, 0.12...</td>\n",
       "      <td>[3.0999999999971806, 3.1999999999970896, 3.099...</td>\n",
       "      <td>[77.66641817488104]</td>\n",
       "      <td>...</td>\n",
       "      <td>-50.722451</td>\n",
       "      <td>188266.275862</td>\n",
       "      <td>1.882663</td>\n",
       "      <td>-71.583144</td>\n",
       "      <td>378.129070</td>\n",
       "      <td>3.173304</td>\n",
       "      <td>187153.344828</td>\n",
       "      <td>1.871533</td>\n",
       "      <td>-0.664817</td>\n",
       "      <td>0.000796</td>\n",
       "    </tr>\n",
       "    <tr>\n",
       "      <th>NMLCL000978</th>\n",
       "      <td>[86.4608399951427]</td>\n",
       "      <td>[79.71521295596509]</td>\n",
       "      <td>[7.226235540201017, 6.141522599033536, 5.66764...</td>\n",
       "      <td>[-68.84283999999901, -69.9275529411665, -70.40...</td>\n",
       "      <td>[-68.73838297850239, -69.0910782606726, -69.05...</td>\n",
       "      <td>[-1.0847129411674814, -0.4738818414184749, -0....</td>\n",
       "      <td>[86.4608399951427, 79.71521295596509, 81.33483...</td>\n",
       "      <td>[0.4273504273504855, 0.4214876033057851, 0.425...</td>\n",
       "      <td>[3.400000000000773, 3.7000000000008413, 3.6999...</td>\n",
       "      <td>[73.02886666015736]</td>\n",
       "      <td>...</td>\n",
       "      <td>-54.894278</td>\n",
       "      <td>200697.205714</td>\n",
       "      <td>2.006972</td>\n",
       "      <td>-69.426235</td>\n",
       "      <td>209.525059</td>\n",
       "      <td>2.990292</td>\n",
       "      <td>200314.634286</td>\n",
       "      <td>2.003146</td>\n",
       "      <td>-6.602247</td>\n",
       "      <td>0.001017</td>\n",
       "    </tr>\n",
       "  </tbody>\n",
       "</table>\n",
       "<p>5 rows × 233 columns</p>\n",
       "</div>"
      ],
      "text/plain": [
       "            AHP1_depth_from_peak AHP2_depth_from_peak  \\\n",
       "NMLCL000842  [94.35272730093455]  [95.35519817208674]   \n",
       "NMLCL000150  [85.32297500543316]  [82.67246665997659]   \n",
       "NMLCL000160  [90.26799248972013]  [88.04533332533875]   \n",
       "NMLCL000480  [96.94536470012301]  [92.10237600292912]   \n",
       "NMLCL000978   [86.4608399951427]  [79.71521295596509]   \n",
       "\n",
       "                                                     AHP_depth  \\\n",
       "NMLCL000842  [-5.467570208257911, -5.517161117356764, -5.51...   \n",
       "NMLCL000150  [-0.7747521750732176, -0.5658438417432876, -0....   \n",
       "NMLCL000160  [-1.0595340658517785, -1.5962215658529857, -1....   \n",
       "NMLCL000480  [0.2957104849672447, 0.6296991908565985, -0.28...   \n",
       "NMLCL000978  [7.226235540201017, 6.141522599033536, 5.66764...   \n",
       "\n",
       "                                                 AHP_depth_abs  \\\n",
       "NMLCL000842  [-74.25972727270074, -74.3093181817996, -74.30...   \n",
       "NMLCL000150  [-69.3053749999928, -69.09646666666286, -68.98...   \n",
       "NMLCL000160  [-72.21231249999879, -72.749, -72.758339130433...   \n",
       "NMLCL000480  [-70.77276470587192, -70.43877599998257, -71.3...   \n",
       "NMLCL000978  [-68.84283999999901, -69.9275529411665, -70.40...   \n",
       "\n",
       "                                            AHP_depth_abs_slow  \\\n",
       "NMLCL000842  [-71.3183428569876, -71.31639387745074, -71.30...   \n",
       "NMLCL000150  [-68.48556135589118, -68.44087266879296, -68.3...   \n",
       "NMLCL000160  [-72.69567380950369, -72.74720869564989, -72.7...   \n",
       "NMLCL000480  [-69.31302439021124, -70.12247692310284, -70.0...   \n",
       "NMLCL000978  [-68.73838297850239, -69.0910782606726, -69.05...   \n",
       "\n",
       "                                                AHP_depth_diff  \\\n",
       "NMLCL000842  [-0.04959090909885333, 0.0010454545395930381, ...   \n",
       "NMLCL000150  [0.20890833332992997, 0.10816363635242965, 0.2...   \n",
       "NMLCL000160  [-0.5366875000012072, -0.009339130433332343, 0...   \n",
       "NMLCL000480  [0.3339887058893538, -0.9113416470725468, -0.0...   \n",
       "NMLCL000978  [-1.0847129411674814, -0.4738818414184749, -0....   \n",
       "\n",
       "                                           AHP_depth_from_peak  \\\n",
       "NMLCL000842  [94.35272730093455, 95.35519817208674, 95.5217...   \n",
       "NMLCL000150  [85.32297500543316, 82.67246665997659, 81.8509...   \n",
       "NMLCL000160  [90.26799248972013, 88.04533332533875, 87.5853...   \n",
       "NMLCL000480  [96.94536470012301, 92.10237600292912, 94.9155...   \n",
       "NMLCL000978  [86.4608399951427, 79.71521295596509, 81.33483...   \n",
       "\n",
       "                                                 AHP_slow_time  \\\n",
       "NMLCL000842  [0.2125, 0.2125, 0.2125, 0.2125, 0.21338912133...   \n",
       "NMLCL000150  [0.16293929712460065, 0.14739884393063585, 0.1...   \n",
       "NMLCL000160  [0.17894736842105263, 0.1513353115727003, 0.09...   \n",
       "NMLCL000480  [0.1424581005586592, 0.13315926892950392, 0.12...   \n",
       "NMLCL000978  [0.4273504273504855, 0.4214876033057851, 0.425...   \n",
       "\n",
       "                                            AHP_time_from_peak  \\\n",
       "NMLCL000842  [2.300000000000523, 2.299999999997908, 2.29999...   \n",
       "NMLCL000150  [2.8000000000006366, 2.9999999999972715, 2.999...   \n",
       "NMLCL000160  [3.9000000000008868, 4.399999999995998, 4.5999...   \n",
       "NMLCL000480  [3.0999999999971806, 3.1999999999970896, 3.099...   \n",
       "NMLCL000978  [3.400000000000773, 3.7000000000008413, 3.6999...   \n",
       "\n",
       "                         AP1_amp    ...    threshold_v   trough_index  \\\n",
       "NMLCL000842   [75.6438500248334]    ...     -55.573728  198797.707317   \n",
       "NMLCL000150  [72.12080000359134]    ...     -45.062270  182887.857143   \n",
       "NMLCL000160   [72.7976799870559]    ...     -54.709880  184062.315789   \n",
       "NMLCL000480  [77.66641817488104]    ...     -50.722451  188266.275862   \n",
       "NMLCL000978  [73.02886666015736]    ...     -54.894278  200697.205714   \n",
       "\n",
       "             trough_t   trough_v    upstroke upstroke_downstroke_ratio  \\\n",
       "NMLCL000842  1.987977 -74.037120  324.153334                  2.232816   \n",
       "NMLCL000150  1.828879 -67.929939  221.251466                  2.326160   \n",
       "NMLCL000160  1.840623 -72.134295  244.702074                  2.498303   \n",
       "NMLCL000480  1.882663 -71.583144  378.129070                  3.173304   \n",
       "NMLCL000978  2.006972 -69.426235  209.525059                  2.990292   \n",
       "\n",
       "            upstroke_index upstroke_t upstroke_v     width  \n",
       "NMLCL000842  198562.573171   1.985626  -3.755633  0.000730  \n",
       "NMLCL000150  181719.904762   1.817199  -8.663569  0.000743  \n",
       "NMLCL000160  182681.578947   1.826816  -7.589454  0.000788  \n",
       "NMLCL000480  187153.344828   1.871533  -0.664817  0.000796  \n",
       "NMLCL000978  200314.634286   2.003146  -6.602247  0.001017  \n",
       "\n",
       "[5 rows x 233 columns]"
      ]
     },
     "execution_count": 6,
     "metadata": {},
     "output_type": "execute_result"
    }
   ],
   "source": [
    "# Check to see what is there.  Might also check to see if there is data there.\n",
    "df_30x.head()"
   ]
  },
  {
   "cell_type": "code",
   "execution_count": 7,
   "metadata": {},
   "outputs": [
    {
     "name": "stderr",
     "output_type": "stream",
     "text": [
      "/home/rgerkin/miniconda3/lib/python3.6/site-packages/numpy/core/fromnumeric.py:3118: RuntimeWarning: Mean of empty slice.\n",
      "  out=out, **kwargs)\n",
      "/home/rgerkin/miniconda3/lib/python3.6/site-packages/numpy/core/_methods.py:85: RuntimeWarning: invalid value encountered in double_scalars\n",
      "  ret = ret.dtype.type(ret / rcount)\n"
     ]
    }
   ],
   "source": [
    "# A function to convert all cells containing array (or other things) into floats.  \n",
    "def f(x):\n",
    "    try:\n",
    "        return np.mean(x)\n",
    "    except:\n",
    "        try:\n",
    "            return np.mean(x['pred'])\n",
    "        except:\n",
    "            print(x)\n",
    "            raise e\n",
    "\n",
    "# Apply this function to each dataframe in order to convert all cells into floats.\n",
    "# Also call fillna() first to impute missing values with 0's.  \n",
    "df_15x = df_15x.fillna(0).applymap(f)\n",
    "df_30x = df_30x.fillna(0).applymap(f)"
   ]
  },
  {
   "cell_type": "code",
   "execution_count": 8,
   "metadata": {},
   "outputs": [],
   "source": [
    "# Join the dataframes horizonstally, so that all features coming from df_15x get a '_1.5x' suffix\n",
    "# and all the ones from df_30x get a '_3.0x' suffix\n",
    "df = df_15x.join(df_30x, lsuffix='_1.5x', rsuffix='_3.0x')"
   ]
  },
  {
   "cell_type": "code",
   "execution_count": 9,
   "metadata": {},
   "outputs": [
    {
     "name": "stdout",
     "output_type": "stream",
     "text": [
      "There are 545 models+data and 466 features\n"
     ]
    }
   ],
   "source": [
    "print(\"There are %d models+data and %d features\" % df.shape)"
   ]
  },
  {
   "cell_type": "code",
   "execution_count": 10,
   "metadata": {},
   "outputs": [],
   "source": [
    "# Impute remaining missing values with 0.\n",
    "df = df.fillna(0)"
   ]
  },
  {
   "cell_type": "code",
   "execution_count": 11,
   "metadata": {},
   "outputs": [],
   "source": [
    "# Turn all features into Normal(0,1) variables\n",
    "# Important since features all have different scales\n",
    "from sklearn.preprocessing import StandardScaler\n",
    "ss = StandardScaler()\n",
    "df[:] = ss.fit_transform(df.values)"
   ]
  },
  {
   "cell_type": "code",
   "execution_count": 12,
   "metadata": {},
   "outputs": [
    {
     "data": {
      "image/png": "[encoded data removed]",
      "text/plain": [
       "<matplotlib.figure.Figure at 0x7f3636c29208>"
      ]
     },
     "metadata": {},
     "output_type": "display_data"
    }
   ],
   "source": [
    "# Do PCA and look at variance explained\n",
    "pca = PCA()\n",
    "pca.fit(df.values)\n",
    "n_features = df.shape[1]\n",
    "plt.plot(range(1,n_features+1),pca.explained_variance_ratio_.cumsum())\n",
    "plt.xlim(0,50);\n",
    "plt.xlabel('Number of principal components')\n",
    "plt.ylabel('Fraction of variance explained');"
   ]
  },
  {
   "cell_type": "code",
   "execution_count": 13,
   "metadata": {},
   "outputs": [],
   "source": [
    "# THe transformed values, ordered from highest to lowest variance dimensions\n",
    "transformed = pca.transform(df.values)"
   ]
  },
  {
   "cell_type": "code",
   "execution_count": 14,
   "metadata": {},
   "outputs": [
    {
     "data": {
      "image/png": "[encoded data removed]",
      "text/plain": [
       "<matplotlib.figure.Figure at 0x7f362ed56ba8>"
      ]
     },
     "metadata": {},
     "output_type": "display_data"
    }
   ],
   "source": [
    "# Do an isomap embedding in 2 dimensions\n",
    "isomap = Isomap(n_components=2)\n",
    "isomap.fit(df.values)\n",
    "\n",
    "# Plot that isomap embedding. Each is a model (or a cell, for data)\n",
    "plt.scatter(*isomap.embedding_.T);\n",
    "# I don't love the isomap fit"
   ]
  },
  {
   "cell_type": "code",
   "execution_count": 15,
   "metadata": {},
   "outputs": [
    {
     "name": "stdout",
     "output_type": "stream",
     "text": [
      "CPU times: user 2.69 s, sys: 0 ns, total: 2.69 s\n",
      "Wall time: 2.5 s\n"
     ]
    },
    {
     "data": {
      "image/png": "[encoded data removed]",
      "text/plain": [
       "<matplotlib.figure.Figure at 0x7f36095e5550>"
      ]
     },
     "metadata": {},
     "output_type": "display_data"
    }
   ],
   "source": [
    "# Do a TSNE embedding in two dimensions\n",
    "tsne = TSNE(n_components=2, perplexity=25)\n",
    "%time tsne.fit(df.values)\n",
    "\n",
    "# Plot that TSNE embedding. Each is a model (or a cell, for data)\n",
    "plt.scatter(*tsne.embedding_.T);"
   ]
  },
  {
   "cell_type": "code",
   "execution_count": 16,
   "metadata": {},
   "outputs": [],
   "source": [
    "# PLay around with the value of perplexity. Recommended values are between 5 and 50.  \n",
    "#See if any of the clusters that pop out mean anything (do they match existing cell type clusters?  \n",
    "# Do they match known firnig patterns?  \n",
    "# Where does the data fit in when it is also plotted in this space?)"
   ]
  },
  {
   "cell_type": "code",
   "execution_count": null,
   "metadata": {},
   "outputs": [],
   "source": []
  }
 ],
 "metadata": {
  "kernelspec": {
   "display_name": "Python 3",
   "language": "python",
   "name": "python3"
  },
  "language_info": {
   "codemirror_mode": {
    "name": "ipython",
    "version": 3
   },
   "file_extension": ".py",
   "mimetype": "text/x-python",
   "name": "python",
   "nbconvert_exporter": "python",
   "pygments_lexer": "ipython3",
   "version": "3.6.7"
  }
 },
 "nbformat": 4,
 "nbformat_minor": 2
}
