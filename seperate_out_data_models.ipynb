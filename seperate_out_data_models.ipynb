{
 "cells": [
  {
   "cell_type": "code",
   "execution_count": 1,
   "metadata": {},
   "outputs": [],
   "source": [
    "# Common stuff to import\n",
    "%matplotlib inline\n",
    "import pickle\n",
    "import numpy as np\n",
    "import matplotlib.pyplot as plt\n",
    "import seaborn as sns\n",
    "import os\n",
    "sns.set(font_scale=1.5)\n",
    "import pandas as pd"
   ]
  },
  {
   "cell_type": "code",
   "execution_count": 2,
   "metadata": {},
   "outputs": [],
   "source": [
    "# Special stuff to import\n",
    "from sklearn.decomposition import PCA\n",
    "from sklearn.manifold import Isomap, TSNE"
   ]
  },
  {
   "cell_type": "code",
   "execution_count": 3,
   "metadata": {},
   "outputs": [],
   "source": [
    "cwd = os.getcwd()\n",
    "path2data = os.path.join(cwd,'data')"
   ]
  },
  {
   "cell_type": "code",
   "execution_count": 4,
   "metadata": {},
   "outputs": [],
   "source": [
    "standard = 0\n",
    "strong = 0\n",
    "easy_map = [\n",
    "            {'AP12AmplitudeDropTest':standard},\n",
    "            {'AP1SSAmplitudeChangeTest':standard},\n",
    "            {'AP1AmplitudeTest':standard},\n",
    "            {'AP1WidthHalfHeightTest':standard},\n",
    "            {'AP1WidthPeakToTroughTest':standard},\n",
    "            {'AP1RateOfChangePeakToTroughTest':standard},\n",
    "            {'AP1AHPDepthTest':standard},\n",
    "            {'AP2AmplitudeTest':standard},\n",
    "            {'AP2WidthHalfHeightTest':standard},\n",
    "            {'AP2WidthPeakToTroughTest':standard},\n",
    "            {'AP2RateOfChangePeakToTroughTest':standard},\n",
    "            {'AP2AHPDepthTest':standard},\n",
    "            {'AP12AmplitudeChangePercentTest':standard},\n",
    "            {'AP12HalfWidthChangePercentTest':standard},\n",
    "            {'AP12RateOfChangePeakToTroughPercentChangeTest':standard},\n",
    "            {'AP12AHPDepthPercentChangeTest':standard},\n",
    "            {'InputResistanceTest':str('ir_currents')},\n",
    "            {'AP1DelayMeanTest':standard},\n",
    "            {'AP1DelaySDTest':standard},\n",
    "            {'AP2DelayMeanTest':standard},\n",
    "            {'AP2DelaySDTest':standard},\n",
    "            {'Burst1ISIMeanTest':standard},\n",
    "            {'Burst1ISISDTest':standard},\n",
    "            {'InitialAccommodationMeanTest':standard},\n",
    "            {'SSAccommodationMeanTest':standard},\n",
    "            {'AccommodationRateToSSTest':standard},\n",
    "            {'AccommodationAtSSMeanTest':standard},\n",
    "            {'AccommodationRateMeanAtSSTest':standard},\n",
    "            {'ISICVTest':standard},\n",
    "            {'ISIMedianTest':standard},\n",
    "            {'ISIBurstMeanChangeTest':standard},\n",
    "            {'SpikeRateStrongStimTest':strong},\n",
    "            {'AP1DelayMeanStrongStimTest':strong},\n",
    "            {'AP1DelaySDStrongStimTest':strong},\n",
    "            {'AP2DelayMeanStrongStimTest':strong},\n",
    "            {'AP2DelaySDStrongStimTest':strong},\n",
    "            {'Burst1ISIMeanStrongStimTest':strong},\n",
    "            {'Burst1ISISDStrongStimTest':strong},\n",
    "        ]\n",
    "\n",
    "dm_labels = [list(keys.keys())[0] for keys in easy_map ]\n"
   ]
  },
  {
   "cell_type": "code",
   "execution_count": 5,
   "metadata": {},
   "outputs": [],
   "source": [
    "# Open the 1.5x rheobase file\n",
    "filename = os.path.join(cwd,'onefive_df.pkl')\n",
    "with open(filename, 'rb') as f:\n",
    "    df = pickle.load(f)"
   ]
  },
  {
   "cell_type": "code",
   "execution_count": 6,
   "metadata": {},
   "outputs": [
    {
     "data": {
      "text/plain": [
       "\"\\nfor col in df.columns:\\n    for dm in dm_labels:\\n        if dm in col:\\n            #print(dm)\\n            del df[col]\\n            #print('deleted')\\n            \\n\""
      ]
     },
     "execution_count": 6,
     "metadata": {},
     "output_type": "execute_result"
    }
   ],
   "source": [
    "'''\n",
    "for col in df.columns:\n",
    "    for dm in dm_labels:\n",
    "        if dm in col:\n",
    "            #print(dm)\n",
    "            del df[col]\n",
    "            #print('deleted')\n",
    "            \n",
    "'''"
   ]
  },
  {
   "cell_type": "code",
   "execution_count": 7,
   "metadata": {},
   "outputs": [],
   "source": [
    "df.iloc[0][192:195]\n",
    "del df['InputResistanceTest_1.5x']\n",
    "del df['InputResistanceTest_3.0x']\n",
    "del df['ohmic_input_resistance_1.5x']\n",
    "del df['ohmic_input_resistance_3.0x']"
   ]
  },
  {
   "cell_type": "code",
   "execution_count": 8,
   "metadata": {},
   "outputs": [],
   "source": [
    "# A function to convert all cells containing array (or other things) into floats.  \n",
    "def f(x):\n",
    "    try:\n",
    "        return np.mean(x)\n",
    "    except:\n",
    "        try:\n",
    "            return np.mean(x['pred'])\n",
    "        except:\n",
    "            print(x)\n",
    "            raise e\n",
    "\n",
    "# Apply this function to each dataframe in order to convert all cells into floats.\n",
    "# Also call fillna() first to impute missing values with 0's.  \n",
    "df = df.fillna(0).applymap(f)\n",
    "#df_30x = df_30x.fillna(0).applymap(f)"
   ]
  },
  {
   "cell_type": "code",
   "execution_count": 9,
   "metadata": {},
   "outputs": [],
   "source": [
    "# Join the dataframes horizonstally, so that all features coming from df_15x get a '_1.5x' suffix\n",
    "# and all the ones from df_30x get a '_3.0x' suffix\n",
    "#df = df_15x.join(df_30x, lsuffix='_1.5x', rsuffix='_3.0x')"
   ]
  },
  {
   "cell_type": "code",
   "execution_count": 10,
   "metadata": {},
   "outputs": [
    {
     "name": "stdout",
     "output_type": "stream",
     "text": [
      "There are 7285 models+data and 462 features\n"
     ]
    }
   ],
   "source": [
    "print(\"There are %d models+data and %d features\" % df.shape)"
   ]
  },
  {
   "cell_type": "code",
   "execution_count": 11,
   "metadata": {},
   "outputs": [],
   "source": [
    "# Impute remaining missing values with 0.\n",
    "df = df.fillna(0)"
   ]
  },
  {
   "cell_type": "code",
   "execution_count": 12,
   "metadata": {},
   "outputs": [
    {
     "name": "stdout",
     "output_type": "stream",
     "text": [
      "1661\n"
     ]
    }
   ],
   "source": [
    "# Turn all features into Normal(0,1) variables\n",
    "# Important since features all have different scales\n",
    "from sklearn.preprocessing import StandardScaler\n",
    "ss = StandardScaler()\n",
    "df[:] = ss.fit_transform(df.values)\n",
    "df.groupby(df.index).first()\n",
    "df = pd.DataFrame.drop_duplicates(df)\n",
    "print(len(df))"
   ]
  },
  {
   "cell_type": "code",
   "execution_count": 13,
   "metadata": {},
   "outputs": [
    {
     "name": "stdout",
     "output_type": "stream",
     "text": [
      "696\n"
     ]
    }
   ],
   "source": [
    "# Check to see what is there.  Might also check to see if there is data there.\n",
    "#df_30x#.head()\n",
    "\n",
    "# make model dataframe\n",
    "model_idx = [idx for idx in df.index.values if type(idx)==str]\n",
    "model_no_trans_df = df[df.index.isin(model_idx)]\n",
    "model_no_trans_df.index.name = 'Cell_ID'\n",
    "model_df = model_no_trans_df.copy()\n",
    "model_df.index.name = 'Cell_ID'\n",
    "\n",
    "# make experiment dataframe\n",
    "experiment_idx = [idx for idx in df.index.values if type(idx)==int]\n",
    "experiment_no_trans_df = df[df.index.isin(experiment_idx)]\n",
    "experiment_df = experiment_no_trans_df.copy()\n",
    "print(len(experiment_df))"
   ]
  },
  {
   "cell_type": "code",
   "execution_count": 14,
   "metadata": {},
   "outputs": [
    {
     "data": {
      "text/plain": [
       "696"
      ]
     },
     "execution_count": 14,
     "metadata": {},
     "output_type": "execute_result"
    }
   ],
   "source": [
    "#print(len(experiment_df))\n",
    "experiment_df = pd.DataFrame.drop_duplicates(experiment_df)\n",
    "#experiment_df.index\n",
    "experiment_df.groupby(experiment_df.index).first()\n",
    "len(experiment_df)"
   ]
  },
  {
   "cell_type": "code",
   "execution_count": 15,
   "metadata": {},
   "outputs": [
    {
     "name": "stdout",
     "output_type": "stream",
     "text": [
      "965\n"
     ]
    },
    {
     "data": {
      "text/plain": [
       "965"
      ]
     },
     "execution_count": 15,
     "metadata": {},
     "output_type": "execute_result"
    }
   ],
   "source": [
    "print(len(model_df))\n",
    "model_df = pd.DataFrame.drop_duplicates(model_df)\n",
    "model_df.index\n",
    "model_df.groupby(model_df.index).first()\n",
    "len(model_df)"
   ]
  },
  {
   "cell_type": "code",
   "execution_count": 16,
   "metadata": {},
   "outputs": [
    {
     "data": {
      "image/png": "[encoded data removed]",
      "text/plain": [
       "<Figure size 432x288 with 1 Axes>"
      ]
     },
     "metadata": {},
     "output_type": "display_data"
    }
   ],
   "source": [
    "# Do PCA and look at variance explained\n",
    "pca = PCA()\n",
    "pca.fit(df.values)\n",
    "n_features = df.shape[1]\n",
    "plt.plot(range(1,n_features+1),pca.explained_variance_ratio_.cumsum())\n",
    "plt.xlim(0,50);\n",
    "plt.xlabel('Number of principal components')\n",
    "plt.ylabel('Fraction of variance explained');"
   ]
  },
  {
   "cell_type": "code",
   "execution_count": 19,
   "metadata": {},
   "outputs": [
    {
     "data": {
      "text/plain": [
       "array([False, False, False, ...,  True,  True,  True])"
      ]
     },
     "execution_count": 19,
     "metadata": {},
     "output_type": "execute_result"
    }
   ],
   "source": [
    "# THe transformed values, ordered from highest to lowest variance dimensions\n",
    "transformed = pca.transform(df.values)\n",
    "\n",
    "\n",
    "#model_idx = [idx for idx in enumerate(df.index.values) if type(idx)==str]\n",
    "'''\n",
    "#label_model_no_trans_df\n",
    "model_no_trans_df.index.name = 'Cell_ID'\n",
    "model_df = model_no_trans_df.copy()\n",
    "model_df.index.name = 'Cell_ID'\n",
    "'''\n",
    "# make experiment dataframe\n",
    "experiment_idx = [idx for idx in df.index.values if type(idx)==int]\n",
    "model_no_trans_df = df[~df.index.isin(experiment_idx)]\n",
    "experiment_idx_labels = [(i,idx) for i,idx in enumerate(df.index.values) if type(idx)==int]\n",
    "\n",
    "#model_df\n",
    "#df.labels\n",
    "model_no_trans_df\n",
    "experiment_idx_labels = [i[0] for i in experiment_idx_labels]\n",
    "experiment_idx_labels\n",
    "model_no_trans_df\n",
    "model_index_labels = ~df.index.isin(experiment_idx)\n",
    "\n",
    "model_index_labels"
   ]
  },
  {
   "cell_type": "code",
   "execution_count": 20,
   "metadata": {},
   "outputs": [
    {
     "data": {
      "text/plain": [
       "<Figure size 432x288 with 0 Axes>"
      ]
     },
     "metadata": {},
     "output_type": "display_data"
    },
    {
     "data": {
      "image/png": "[encoded data removed]",
      "text/plain": [
       "<Figure size 432x288 with 1 Axes>"
      ]
     },
     "metadata": {},
     "output_type": "display_data"
    }
   ],
   "source": [
    "# Do an isomap embedding in 2 dimensions\n",
    "isomap = Isomap(n_components=2)\n",
    "isomap.fit(df.values)\n",
    "iso = isomap.embedding_.T\n",
    "# Plot that isomap embedding. Each is a model (or a cell, for data)\n",
    "#plt.scatter(iso);\n",
    "plt.clf()\n",
    "fig = plt.figure()\n",
    "ax = plt.subplot(111)\n",
    "plt.scatter(iso[0,experiment_idx_labels],iso[1,experiment_idx_labels],c='blue',cmap='rainbow',label='data')\n",
    "plt.scatter(iso[0,model_index_labels],iso[1,model_index_labels],c='red',cmap='rainbow',label='models')\n",
    "legend = ax.legend()#handles, labels, loc=\"upper right\", title=\"Sizes\")\n",
    "# I don't love the isomap fit"
   ]
  },
  {
   "cell_type": "code",
   "execution_count": 23,
   "metadata": {},
   "outputs": [
    {
     "data": {
      "text/plain": [
       "<Figure size 432x288 with 0 Axes>"
      ]
     },
     "metadata": {},
     "output_type": "display_data"
    },
    {
     "data": {
      "image/png": "[encoded data removed]",
      "text/plain": [
       "<Figure size 432x288 with 1 Axes>"
      ]
     },
     "metadata": {},
     "output_type": "display_data"
    }
   ],
   "source": [
    "# Do a TSNE embedding in two dimensions\n",
    "tsne = TSNE(n_components=2, perplexity=30)\n",
    "tsne.fit(df.values)\n",
    "x = tsne.embedding_.T\n",
    "#np.shape(x)\n",
    "#print(experiment_idx)\n",
    "# Plot that TSNE embedding. Each is a model (or a cell, for data)\n",
    "plt.clf()\n",
    "fig = plt.figure()\n",
    "ax = plt.subplot(111)\n",
    "plt.scatter(x[0,experiment_idx_labels],x[1,experiment_idx_labels],c='blue',cmap='rainbow',label='data')\n",
    "plt.scatter(x[0,model_index_labels],x[1,model_index_labels],c='red',cmap='rainbow',label='models')\n",
    "legend = ax.legend()#handles, labels, loc=\"upper right\", title=\"Sizes\")\n"
   ]
  },
  {
   "cell_type": "code",
   "execution_count": 24,
   "metadata": {},
   "outputs": [
    {
     "name": "stdout",
     "output_type": "stream",
     "text": [
      "(1661, 462)\n",
      "(1661,)\n"
     ]
    },
    {
     "name": "stderr",
     "output_type": "stream",
     "text": [
      "/usr/local/lib/python3.5/dist-packages/sklearn/ensemble/forest.py:246: FutureWarning: The default value of n_estimators will change from 10 in version 0.20 to 100 in 0.22.\n",
      "  \"10 in version 0.20 to 100 in 0.22.\", FutureWarning)\n"
     ]
    },
    {
     "data": {
      "text/plain": [
       "sag_amplitude_3.0x                       0.196144\n",
       "steady_state_voltage_stimend_3.0x        0.099759\n",
       "voltage_deflection_3.0x                  0.098783\n",
       "sag_ratio1_3.0x                          0.095874\n",
       "time_3.0x                                0.094679\n",
       "depolarized_base_1.5x                    0.086964\n",
       "AP1RateOfChangePeakToTroughTest_3.0x     0.083573\n",
       "ISICVTest_1.5x                           0.063689\n",
       "AP12AmplitudeDropTest_3.0x               0.052843\n",
       "AP2RateOfChangePeakToTroughTest_3.0x     0.030272\n",
       "AP1AmplitudeTest_3.0x                    0.029212\n",
       "ohmic_input_resistance_vb_ssse_1.5x      0.016549\n",
       "AP2_begin_voltage_3.0x                   0.010280\n",
       "maximum_voltage_from_voltagebase_3.0x    0.006300\n",
       "upstroke_index_3.0x                      0.005902\n",
       "latency_3.0x                             0.003880\n",
       "fast_trough_t_3.0x                       0.002795\n",
       "is_not_stuck_1.5x                        0.002501\n",
       "downstroke_3.0x                          0.002176\n",
       "AP1DelayMeanTest_3.0x                    0.001734\n",
       "ISICVTest_3.0x                           0.001732\n",
       "voltage_deflection_vb_ssse_3.0x          0.001424\n",
       "AP_begin_voltage_3.0x                    0.001382\n",
       "inv_last_ISI_3.0x                        0.001305\n",
       "AP1WidthHalfHeightTest_1.5x              0.001242\n",
       "AHP1_depth_from_peak_1.5x                0.000924\n",
       "downstroke_t_1.5x                        0.000917\n",
       "threshold_t_1.5x                         0.000551\n",
       "AP1AHPDepthTest_3.0x                     0.000535\n",
       "decay_time_constant_after_stim_3.0x      0.000496\n",
       "                                           ...   \n",
       "ISI_values_3.0x                          0.000000\n",
       "ISIs_3.0x                                0.000000\n",
       "Spikecount_3.0x                          0.000000\n",
       "E20_3.0x                                 0.000000\n",
       "E2_3.0x                                  0.000000\n",
       "E19_3.0x                                 0.000000\n",
       "BPAPHeightLoc1_3.0x                      0.000000\n",
       "AP_rise_indices_3.0x                     0.000000\n",
       "AP_rise_rate_3.0x                        0.000000\n",
       "AP_rise_rate_change_3.0x                 0.000000\n",
       "AP_rise_time_3.0x                        0.000000\n",
       "APlast_amp_3.0x                          0.000000\n",
       "APlast_width_3.0x                        0.000000\n",
       "BAC_maximum_voltage_3.0x                 0.000000\n",
       "BAC_width_3.0x                           0.000000\n",
       "BPAPAmplitudeLoc1_3.0x                   0.000000\n",
       "BPAPAmplitudeLoc2_3.0x                   0.000000\n",
       "BPAPHeightLoc2_3.0x                      0.000000\n",
       "E18_3.0x                                 0.000000\n",
       "BPAPatt2_3.0x                            0.000000\n",
       "BPAPatt3_3.0x                            0.000000\n",
       "E10_3.0x                                 0.000000\n",
       "E11_3.0x                                 0.000000\n",
       "E12_3.0x                                 0.000000\n",
       "E13_3.0x                                 0.000000\n",
       "E14_3.0x                                 0.000000\n",
       "E15_3.0x                                 0.000000\n",
       "E16_3.0x                                 0.000000\n",
       "E17_3.0x                                 0.000000\n",
       "width_1.5x                               0.000000\n",
       "Length: 462, dtype: float64"
      ]
     },
     "execution_count": 24,
     "metadata": {},
     "output_type": "execute_result"
    }
   ],
   "source": [
    "#df_data = pd.read_csv(...)\n",
    "#df_models = pd.read_csv(...)\n",
    "from sklearn.ensemble import RandomForestClassifier\n",
    "\n",
    "df_models = df[~df.index.isin(experiment_idx)]\n",
    "df_data = df[df.index.isin(experiment_idx)]\n",
    "# Assume they have the same columns\n",
    "\n",
    "df_combined = pd.concat((df_data, df_models))\n",
    "#target = np.array([0]*df_models.shape[0] + [1]*df_data.shape[1])\n",
    "target = np.array(df.index.isin(experiment_idx))\n",
    "\n",
    "print(np.shape(df_combined))\n",
    "print(np.shape(target))\n",
    "\n",
    "rfc = RandomForestClassifier()\n",
    "rfc.fit(df_combined.values, target)\n",
    "\n",
    "importances = pd.Series(index = df_combined.columns, data=rfc.feature_importances_)\n",
    "importances.sort_values(ascending=False)\n",
    "#rfc.feature_importances_"
   ]
  },
  {
   "cell_type": "code",
   "execution_count": null,
   "metadata": {},
   "outputs": [],
   "source": [
    "#np.shape(x)\n",
    "#x[0,:]\n",
    "#X[1,:]"
   ]
  },
  {
   "cell_type": "code",
   "execution_count": null,
   "metadata": {},
   "outputs": [],
   "source": [
    "# PLay around with the value of perplexity. Recommended values are between 5 and 50.  \n",
    "#See if any of the clusters that pop out mean anything (do they match existing cell type clusters?  \n",
    "# Do they match known firnig patterns?  \n",
    "# Where does the data fit in when it is also plotted in this space?)\n",
    "\n",
    "perplexities = [25,30,35,40]\n",
    "\n",
    "fig, ax = plt.subplots(2,2,figsize=(8,12),dpi=300)\n",
    "ax = ax.ravel()\n",
    "\n",
    "for i, perp in enumerate(perplexities):\n",
    "\n",
    "    # init = 'pca' or 'random'\n",
    "    tsne = TSNE(n_components=2,\n",
    "                init='random',      \n",
    "                random_state=0,\n",
    "                perplexity=perp,         # default = 30, should be less than the number of samples\n",
    "                n_iter=1000)             # default = 1000\n",
    "\n",
    "\n",
    "    %time tsne.fit(df.values) # can't use transpose\n",
    "\n",
    "\n",
    "    ax[i].scatter(*tsne.embedding_.T);\n",
    "\n",
    "    if i in [2,3]:\n",
    "        ax[i].set_xlabel('TSNE-1')\n",
    "\n",
    "    if i in [0,2]:\n",
    "        ax[i].set_ylabel('TSNE-2')\n",
    "    ax[i].set_title('Perplexity = %s' %perp)"
   ]
  },
  {
   "cell_type": "markdown",
   "metadata": {},
   "source": [
    "### Repeat above with just experimental data"
   ]
  },
  {
   "cell_type": "code",
   "execution_count": null,
   "metadata": {},
   "outputs": [],
   "source": [
    "# make model dataframe\n",
    "model_idx = [idx for idx in df.index.values if type(idx)==str]\n",
    "model_no_trans_df = df[df.index.isin(model_idx)]\n",
    "model_no_trans_df.index.name = 'Cell_ID'\n",
    "model_df = model_no_trans_df.copy()\n",
    "model_df.index.name = 'Cell_ID'\n",
    "\n",
    "# make experiment dataframe\n",
    "experiment_idx = [idx for idx in df.index.values if type(idx)==int]\n",
    "experiment_no_trans_df = df[df.index.isin(experiment_idx)]\n",
    "experiment_df = experiment_no_trans_df.copy()\n",
    "experiment_df"
   ]
  },
  {
   "cell_type": "code",
   "execution_count": null,
   "metadata": {},
   "outputs": [],
   "source": [
    "model_df[:] = ss.fit_transform(model_no_trans_df.values);"
   ]
  },
  {
   "cell_type": "code",
   "execution_count": null,
   "metadata": {},
   "outputs": [],
   "source": [
    "model_no_trans_df.head()"
   ]
  },
  {
   "cell_type": "code",
   "execution_count": null,
   "metadata": {},
   "outputs": [],
   "source": [
    "model_df.head()"
   ]
  },
  {
   "cell_type": "code",
   "execution_count": null,
   "metadata": {},
   "outputs": [],
   "source": [
    "# PLay around with the value of perplexity. Recommended values are between 5 and 50.  \n",
    "#See if any of the clusters that pop out mean anything (do they match existing cell type clusters?  \n",
    "# Do they match known firnig patterns?  \n",
    "# Where does the data fit in when it is also plotted in this space?)\n",
    "\n",
    "perplexities = [25,30,35,40]\n",
    "\n",
    "df = model_df.copy()\n",
    "\n",
    "fig, ax = plt.subplots(2,2,figsize=(8,12))\n",
    "ax = ax.ravel()\n",
    "\n",
    "for i, perp in enumerate(perplexities):\n",
    "\n",
    "    # init = 'pca' or 'random'\n",
    "    tsne = TSNE(n_components=2,\n",
    "                init='random',      \n",
    "                random_state=0,\n",
    "                perplexity=perp,         # default = 30, should be less than the number of samples\n",
    "                n_iter=1000)             # default = 1000\n",
    "\n",
    "\n",
    "    %time tsne.fit(df.values) # can't use transpose\n",
    "\n",
    "\n",
    "    ax[i].scatter(*tsne.embedding_.T);\n",
    "\n",
    "    if i in [2,3]:\n",
    "        ax[i].set_xlabel('TSNE-1')\n",
    "\n",
    "    if i in [0,2]:\n",
    "        ax[i].set_ylabel('TSNE-2')\n",
    "    ax[i].set_title('Perplexity = %s' %perp)"
   ]
  },
  {
   "cell_type": "code",
   "execution_count": null,
   "metadata": {},
   "outputs": [],
   "source": [
    "try:\n",
    "    os.mkdir('data')\n",
    "except:\n",
    "    pass\n",
    "filename = os.path.join(path2data,'new_cortical_ephys.csv')\n",
    "\n",
    "model_df.to_csv(filename)\n",
    "\n",
    "filename = os.path.join(path2data,'new_cortical_ephys_no_trans.csv')\n",
    "model_no_trans_df.to_csv(filename)\n",
    "\n",
    "filename = os.path.join(path2data,'experiment_ephys_no_trans.csv')\n",
    "experiment_no_trans_df.to_csv(filename)"
   ]
  },
  {
   "cell_type": "code",
   "execution_count": null,
   "metadata": {},
   "outputs": [],
   "source": []
  },
  {
   "cell_type": "code",
   "execution_count": null,
   "metadata": {},
   "outputs": [],
   "source": []
  }
 ],
 "metadata": {
  "kernelspec": {
   "display_name": "Python 3",
   "language": "python",
   "name": "python3"
  },
  "language_info": {
   "codemirror_mode": {
    "name": "ipython",
    "version": 3
   },
   "file_extension": ".py",
   "mimetype": "text/x-python",
   "name": "python",
   "nbconvert_exporter": "python",
   "pygments_lexer": "ipython3",
   "version": "3.5.2"
  }
 },
 "nbformat": 4,
 "nbformat_minor": 2
}
